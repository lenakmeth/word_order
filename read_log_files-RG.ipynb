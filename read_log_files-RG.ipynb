{
 "cells": [
  {
   "cell_type": "code",
   "execution_count": 28,
   "metadata": {},
   "outputs": [],
   "source": [
    "from collections import Counter, OrderedDict\n",
    "import matplotlib.pyplot as plt\n",
    "import spacy\n",
    "import matplotlib.pyplot as plt\n",
    "\n",
    "nlp = spacy.load('fr_core_news_sm')"
   ]
  },
  {
   "cell_type": "code",
   "execution_count": 29,
   "metadata": {},
   "outputs": [],
   "source": [
    "# before = 0\n",
    "# after = 1\n",
    "model = 'flaubert_base_uncased'\n",
    "dataset = 'frwac_rg'"
   ]
  },
  {
   "cell_type": "code",
   "execution_count": 53,
   "metadata": {},
   "outputs": [],
   "source": [
    "def lemmatize_spacy(word):\n",
    "    # one word\n",
    "    doc = nlp(word)\n",
    "    return doc[0].lemma_\n",
    "\n",
    "def read_log_line(line):\n",
    "    temp = {}\n",
    "    l = line.strip().split(\"\\t\")\n",
    "    temp['probs'] = [float(x) for x in l[1][7:-1].split(', ')]\n",
    "    temp['tokenized_sent'] = l[2]\n",
    "    temp['sent'] = l[3]\n",
    "    temp['adj'] = l[-5]\n",
    "    temp['noun'] = l[-4]\n",
    "    temp['adj_lemma'] = lemmatize_spacy(l[-5])\n",
    "    if l[0].startswith('right'):\n",
    "        temp['position'] = int(l[0].split(': ')[1])\n",
    "    else:\n",
    "        temp['position'] = abs(int(l[0].split(': ')[1]) -1)\n",
    "        \n",
    "    return temp"
   ]
  },
  {
   "cell_type": "code",
   "execution_count": 54,
   "metadata": {},
   "outputs": [],
   "source": [
    "wrong = []\n",
    "right = []\n",
    "\n",
    "with open('logs/' + dataset + '/' + model + '.log', 'r') as f:\n",
    "    for line in f:\n",
    "        if 'right_label' in line:\n",
    "            right.append(read_log_line(line))\n",
    "        elif 'wrong_label' in line:\n",
    "            wrong.append(read_log_line(line))\n",
    "            \n",
    "all_sents = wrong + right"
   ]
  },
  {
   "cell_type": "code",
   "execution_count": 55,
   "metadata": {},
   "outputs": [
    {
     "name": "stdout",
     "output_type": "stream",
     "text": [
      "Unique adjectives: 4085\n",
      "Unique nouns: 4206\n",
      "\n",
      "Wrong guesses: 242 / 12499 ( 0.019361548923913913 )\n",
      "Right guesses: 12257 / 12499 ( 0.980638451076086 )\n"
     ]
    }
   ],
   "source": [
    "print('Unique adjectives:', len(set([sent['adj'] for sent in all_sents])))\n",
    "print('Unique nouns:', len(set([sent['noun'] for sent in all_sents])))\n",
    "print()\n",
    "print('Wrong guesses:', len(wrong), '/', len(all_sents), '(', (len(wrong)/len(all_sents)), ')')\n",
    "print('Right guesses:', len(right), '/', len(all_sents), '(', (len(right)/len(all_sents)), ')')"
   ]
  },
  {
   "cell_type": "code",
   "execution_count": 58,
   "metadata": {},
   "outputs": [
    {
     "data": {
      "text/plain": [
       "{'probs': [0.7510647177696228, 0.2489352822303772],\n",
       " 'tokenized_sent': 'il ne nous reste plus qu \\' à nous laisser porter sur la vague et donner quelques petites poussées , en criant : \" humaniste raciste ! < cl s > il ne nous reste plus qu \\' à nous laisser porter sur la vague et donner quelques petites poussées , en criant : \" raciste humaniste !',\n",
       " 'sent': \"il ne nous reste plus qu' à nous laisser porter sur la vague et donner quelques petites poussées , en criant : « humaniste raciste ! <cls> il ne nous reste plus qu' à nous laisser porter sur la vague et donner quelques petites poussées , en criant : « raciste humaniste !\",\n",
       " 'adj': 'humaniste',\n",
       " 'noun': 'raciste',\n",
       " 'adj_lemma': 'humaniste',\n",
       " 'position': 1}"
      ]
     },
     "execution_count": 58,
     "metadata": {},
     "output_type": "execute_result"
    }
   ],
   "source": [
    "wrong[1]"
   ]
  },
  {
   "cell_type": "code",
   "execution_count": 59,
   "metadata": {},
   "outputs": [
    {
     "name": "stdout",
     "output_type": "stream",
     "text": [
      "Counts of wrong-before adjectives:\n",
      "Counter({'nouveau': 6, 'important': 4, '3': 4, 'dollar': 3, 'simple': 3, 'magnifique': 2, 'précédente': 2, '4': 2, 'récent': 2, 'ixelle': 2, 'équitable': 2, 'net': 2, 'title=': 2, '2': 2, 'austère': 1, 'membre': 1, 'infinie': 1, 'premier': 1, 'briller': 1, 'national': 1, 'basse': 1, 'énigmatique': 1, 'terrible': 1, 'unique': 1, 'éventuel': 1, 'bon': 1, 'gravure': 1, 'nvell': 1, 'v': 1, 'joli': 1, 'aveugle': 1, 'in': 1, '\\x96': 1, 'large': 1, 'impressionner': 1, 'barbeler': 1, 'libre': 1, 'physique': 1, 'génial': 1, 'joyeux': 1, 'iii': 1, 'nombeux': 1, '1ère': 1, 'politique': 1, 'circulaire': 1, 'dernier': 1, 'financier': 1, 'profonde': 1, 'minuscule': 1, 'particulier': 1, 'xi': 1, 'tridimensionnel': 1, 'mal': 1, 'future': 1, 'majuscule': 1, 'brun': 1, 'français': 1, 'possible': 1, 'graphique': 1, 'noir': 1, 'dynamique': 1, 'progressif': 1, 'divine': 1, 'suspect': 1, 'pervers': 1, 'parfaire': 1, 'graminer': 1, 'communiste': 1, 'vraie': 1, 'réel': 1, 'bouillante': 1, '11': 1, 'haute': 1, '7': 1, 'hydratant': 1, 'réciproque': 1, 'référentiel': 1, 'mystérieux': 1, 'juridique': 1, 'cher': 1, 'réaliste': 1, 'seul': 1, 'antirépublicain': 1, 'perpétuelle': 1, 'ii': 1, '22': 1, 'habile': 1, 'proche': 1})\n",
      "\n",
      "Counts of wrong-after adjectives:\n",
      "Counter({'nouveau': 9, 'seul': 6, 'principal': 4, 'éventuel': 3, 'énorme': 3, 'premier': 3, 'réel': 2, 'extrême': 2, 'divers': 2, 'haute': 2, 'fidèle': 2, 'solide': 2, 'long': 2, 'multiple': 2, '29': 2, 'double': 2, 'prochain': 2, 'véritable': 2, 'court': 2, 'nombreux': 2, 'grave': 2, 'excellent': 2, 'malheureux': 2, 'principale': 2, '14/01/2008': 1, 'humaniste': 1, 'singulière': 1, 'constant': 1, '400': 1, 'ébouriffer': 1, 'plein': 1, 'troisième': 1, 'astringent': 1, 'puisser': 1, 'second': 1, 'magique': 1, '1st': 1, 'cher': 1, '*': 1, 'i': 1, 'future': 1, 'présente': 1, 'aimable': 1, '3': 1, 'tel': 1, 'brève': 1, '6': 1, 'libre': 1, 'douloureuser': 1, 'grand': 1, 'in': 1, 'acide': 1, 'affreux': 1, 'vaste': 1, '9': 1, 'immense': 1, 'dernier': 1, 'superbe': 1, 'exigeante': 1, 'quelconque': 1, 'fébrile': 1, 'vox': 1, 'ke': 1, 'pipole': 1, 'country': 1, 'chrétien': 1, 'profonde': 1, 'total': 1, 'défunt': 1, 'terrible': 1, 'précieux': 1, 'ancien': 1, 'glorieux': 1, 'jeune': 1, 'délicieux': 1, 'imperturbable': 1, 'parfait': 1, 'douce': 1, '2': 1, 'étroite': 1, 'fréquent': 1, 'célèbre': 1, 'sale': 1, '\\x96': 1, '\\x94': 1, 'dollar': 1, 'même': 1, 'tien': 1, 'génial': 1, '18743': 1})\n"
     ]
    }
   ],
   "source": [
    "# 'Adjective was before noun, but was predicted as after:'\n",
    "print('Counts of wrong-before adjectives:')\n",
    "print(Counter([x['adj_lemma'] for x in wrong if x['position'] == 0]))\n",
    "print()\n",
    "# 'Adjective was after noun, but was predicted as before:')\n",
    "print('Counts of wrong-after adjectives:')\n",
    "print(Counter([x['adj_lemma'] for x in wrong if x['position'] == 1]))"
   ]
  },
  {
   "cell_type": "code",
   "execution_count": 60,
   "metadata": {},
   "outputs": [
    {
     "data": {
      "image/png": "[encoded data removed]",
      "text/plain": [
       "<Figure size 432x288 with 1 Axes>"
      ]
     },
     "metadata": {
      "needs_background": "light"
     },
     "output_type": "display_data"
    },
    {
     "data": {
      "text/plain": [
       "[<matplotlib.lines.Line2D at 0x7f3c71256c88>]"
      ]
     },
     "execution_count": 60,
     "metadata": {},
     "output_type": "execute_result"
    },
    {
     "data": {
      "image/png": "[encoded data removed]",
      "text/plain": [
       "<Figure size 432x288 with 1 Axes>"
      ]
     },
     "metadata": {
      "needs_background": "light"
     },
     "output_type": "display_data"
    }
   ],
   "source": [
    "# see probabilities\n",
    "\n",
    "wrong_probabilities = sorted([sent['probs'][sent['position']] for sent in wrong])\n",
    "plt.title('The probability of wrong predicted labels')\n",
    "plt.plot([x for x in range(len(wrong_probabilities))], wrong_probabilities)\n",
    "plt.show()\n",
    "plt.clf()\n",
    "\n",
    "right_probabilities = sorted([sent['probs'][sent['position']] for sent in right])\n",
    "plt.title('The probability of right predicted labels')\n",
    "plt.plot([x for x in range(len(right_probabilities))], right_probabilities)"
   ]
  },
  {
   "cell_type": "code",
   "execution_count": 63,
   "metadata": {},
   "outputs": [
    {
     "name": "stdout",
     "output_type": "stream",
     "text": [
      "['tout', 'nouveau', 'premier', 'grand', 'public', 'français', 'européen', 'social', 'national', 'dernier']\n"
     ]
    }
   ],
   "source": [
    "# most frequent adjectives\n",
    "\n",
    "sorted_lemmas = sorted(Counter([x['adj_lemma'] for x in all_sents]).items(), key=lambda x: x[1], reverse=True)\n",
    "most_freq = [x[0] for x in sorted_lemmas[:10]]\n",
    "print(most_freq)"
   ]
  },
  {
   "cell_type": "code",
   "execution_count": 81,
   "metadata": {},
   "outputs": [
    {
     "data": {
      "image/png": "[encoded data removed]",
      "text/plain": [
       "<Figure size 432x288 with 1 Axes>"
      ]
     },
     "metadata": {
      "needs_background": "light"
     },
     "output_type": "display_data"
    },
    {
     "name": "stdout",
     "output_type": "stream",
     "text": [
      "\n",
      "Predicted as after-noun, was before-noun : \n",
      "6 / 2655\n",
      "\n",
      "Predicted as before-noun, was after-noun : \n",
      "9 / 9844\n"
     ]
    }
   ],
   "source": [
    "# plot the probs of most frequent adjectives\n",
    "adj = 'nouveau'\n",
    "to_plot = []\n",
    "for sent in all_sents:\n",
    "    if sent['adj_lemma'] == adj:\n",
    "        to_plot.append(sent[\"probs\"][0])\n",
    "        \n",
    "plt.title('Probability of adjective \"' + adj + '\" to be before the noun')\n",
    "plt.plot(list(range(len(to_plot))), sorted(to_plot))\n",
    "plt.show()\n",
    "\n",
    "print('\\nPredicted as after-noun, was before-noun : ')\n",
    "print(len([1 for x in wrong if x['adj_lemma'] == adj and x['position'] == 0]), \"/\", \\\n",
    "      len([1 for x in all_sents if x['position'] == 0]))\n",
    "print('\\nPredicted as before-noun, was after-noun : ')\n",
    "print(len([1 for x in wrong if x['adj_lemma'] == adj and x['position'] == 1]), \"/\", \\\n",
    "      len([1 for x in all_sents if x['position'] == 1]))"
   ]
  },
  {
   "cell_type": "code",
   "execution_count": null,
   "metadata": {},
   "outputs": [],
   "source": [
    "# mostly before noun: tout, premier, grand, nouveau\n",
    "# mostly after noun: public, français, européen, social, national\n",
    "# both: dernier"
   ]
  }
 ],
 "metadata": {
  "kernelspec": {
   "display_name": "Python 3",
   "language": "python",
   "name": "python3"
  },
  "language_info": {
   "codemirror_mode": {
    "name": "ipython",
    "version": 3
   },
   "file_extension": ".py",
   "mimetype": "text/x-python",
   "name": "python",
   "nbconvert_exporter": "python",
   "pygments_lexer": "ipython3",
   "version": "3.6.7"
  }
 },
 "nbformat": 4,
 "nbformat_minor": 4
}
